{
 "cells": [
  {
   "cell_type": "markdown",
   "id": "1ad83570-a90a-414d-9c92-746d4e5b1335",
   "metadata": {},
   "source": [
    "# Dataset Builder"
   ]
  },
  {
   "cell_type": "markdown",
   "id": "619d7d5f-7e46-48a1-bc0f-84088b5826ae",
   "metadata": {},
   "source": [
    "This notebook is used to populate the different datasets"
   ]
  },
  {
   "cell_type": "markdown",
   "id": "351d510d-00bb-4ead-8b19-3679e2dfc0a8",
   "metadata": {},
   "source": [
    "## Get different pet images\n",
    "The first step is to get pet images from online resources\n",
    "Indicate the number of images you want to collect"
   ]
  },
  {
   "cell_type": "code",
   "execution_count": 1,
   "id": "649c2060-2197-4465-b88c-ac6f353f0ae8",
   "metadata": {},
   "outputs": [],
   "source": [
    "number_of_images = 100"
   ]
  },
  {
   "cell_type": "markdown",
   "id": "82e4db20-23df-45fc-a8c8-21a19ee2c417",
   "metadata": {},
   "source": [
    "We will now collect the requested number of images for the following pets:\n",
    "* cat\n",
    "* dog\n",
    "* fox\n",
    "* bird\n",
    "* panda"
   ]
  },
  {
   "cell_type": "code",
   "execution_count": 2,
   "id": "692a5477-1625-4e70-8243-0d7ade589ea3",
   "metadata": {},
   "outputs": [],
   "source": [
    "import requests\n",
    "import shutil\n",
    "import os\n",
    "import json\n",
    "from tqdm import tqdm\n",
    "import random"
   ]
  },
  {
   "cell_type": "code",
   "execution_count": 3,
   "id": "946d521d-4963-401f-83d0-44bef45e055f",
   "metadata": {},
   "outputs": [],
   "source": [
    "def save_image(url, path):\n",
    "    response = requests.get(url, stream=True)\n",
    "    with open(path, \"wb\") as out_file:\n",
    "        shutil.copyfileobj(response.raw, out_file)\n",
    "    del response\n",
    "\n",
    "\n",
    "def create_directory_if_missing(path):\n",
    "    if not os.path.exists(path):\n",
    "        os.makedirs(path)\n",
    "\n",
    "\n",
    "def get_pet_images(pet_name, number_of_images=number_of_images):\n",
    "    path = f\"../pets/{pet_name}\"\n",
    "    create_directory_if_missing(path)\n",
    "    url = f\"https://some-random-api.ml/animal/{pet_name}\"\n",
    "    for i in tqdm(range(number_of_images)):\n",
    "        response = json.loads(requests.get(url).text)\n",
    "        save_image(response[\"image\"], f\"{path}/{pet_name}_{i}.jpg\")\n"
   ]
  },
  {
   "cell_type": "code",
   "execution_count": 4,
   "id": "f6dfe312-0e7c-465d-94d7-175c831d9403",
   "metadata": {},
   "outputs": [
    {
     "name": "stdout",
     "output_type": "stream",
     "text": [
      "Gathering 100 cat Images\n"
     ]
    },
    {
     "name": "stderr",
     "output_type": "stream",
     "text": [
      "100%|█████████████████████████████████████████████████| 100/100 [05:37<00:00,  3.37s/it]\n"
     ]
    },
    {
     "name": "stdout",
     "output_type": "stream",
     "text": [
      "Gathering 100 dog Images\n"
     ]
    },
    {
     "name": "stderr",
     "output_type": "stream",
     "text": [
      "100%|█████████████████████████████████████████████████| 100/100 [02:48<00:00,  1.68s/it]\n"
     ]
    },
    {
     "name": "stdout",
     "output_type": "stream",
     "text": [
      "Gathering 100 fox Images\n"
     ]
    },
    {
     "name": "stderr",
     "output_type": "stream",
     "text": [
      "100%|█████████████████████████████████████████████████| 100/100 [00:24<00:00,  4.15it/s]\n"
     ]
    },
    {
     "name": "stdout",
     "output_type": "stream",
     "text": [
      "Gathering 100 bird Images\n"
     ]
    },
    {
     "name": "stderr",
     "output_type": "stream",
     "text": [
      "100%|█████████████████████████████████████████████████| 100/100 [00:35<00:00,  2.85it/s]\n"
     ]
    },
    {
     "name": "stdout",
     "output_type": "stream",
     "text": [
      "Gathering 100 panda Images\n"
     ]
    },
    {
     "name": "stderr",
     "output_type": "stream",
     "text": [
      "100%|█████████████████████████████████████████████████| 100/100 [00:28<00:00,  3.52it/s]\n"
     ]
    }
   ],
   "source": [
    "pets = [\"cat\", \"dog\", \"fox\", \"bird\", \"panda\"]\n",
    "\n",
    "for pet in pets:\n",
    "    print(f\"Gathering {number_of_images} {pet} Images\")\n",
    "    get_pet_images(pet, number_of_images)\n"
   ]
  },
  {
   "cell_type": "markdown",
   "id": "ed91b374-6d46-4d4c-bfd6-928d7ef3d0e0",
   "metadata": {},
   "source": [
    "## Building the datasets"
   ]
  },
  {
   "cell_type": "code",
   "execution_count": 5,
   "id": "1b8e646f-bde3-4698-a0ae-235727c4b54c",
   "metadata": {},
   "outputs": [],
   "source": [
    "def build_dataset(favorite_pet):\n",
    "    path = f\"../datasets/dataset_{favorite_pet}\"\n",
    "    create_directory_if_missing(path)\n",
    "    shutil.copytree(f\"../pets/{favorite_pet}\", f\"{path}/{favorite_pet}\")\n",
    "    create_directory_if_missing(path + \"/others\")\n",
    "    all_pets = [pet for pet in pets]\n",
    "    all_pets.remove(favorite_pet)\n",
    "    all_pet_pictures = []\n",
    "    for pet in all_pets:\n",
    "        all_pet_pictures += [\n",
    "            f\"../pets/{pet}/{pic}\" for pic in os.listdir(f\"../pets/{pet}\")\n",
    "        ]\n",
    "    random_pictures = random.sample(all_pet_pictures, number_of_images)\n",
    "    for pic in random_pictures:\n",
    "        shutil.copy2(pic, path + \"/others/\" + pic.split(\"/\")[-1])\n",
    "    print(f\"Compiled {favorite_pet} dataset\")\n"
   ]
  },
  {
   "cell_type": "code",
   "execution_count": 6,
   "id": "82318415-6f49-4dd1-bad7-54a8c2413b80",
   "metadata": {},
   "outputs": [
    {
     "name": "stdout",
     "output_type": "stream",
     "text": [
      "Compiled cat dataset\n",
      "Compiled dog dataset\n",
      "Compiled fox dataset\n",
      "Compiled bird dataset\n",
      "Compiled panda dataset\n"
     ]
    }
   ],
   "source": [
    "build_dataset(\"cat\")\n",
    "build_dataset(\"dog\")\n",
    "build_dataset(\"fox\")\n",
    "build_dataset(\"bird\")\n",
    "build_dataset(\"panda\")\n"
   ]
  }
 ],
 "metadata": {
  "kernelspec": {
   "display_name": "Python 3 (ipykernel)",
   "language": "python",
   "name": "python3"
  },
  "language_info": {
   "codemirror_mode": {
    "name": "ipython",
    "version": 3
   },
   "file_extension": ".py",
   "mimetype": "text/x-python",
   "name": "python",
   "nbconvert_exporter": "python",
   "pygments_lexer": "ipython3",
   "version": "3.8.10"
  }
 },
 "nbformat": 4,
 "nbformat_minor": 5
}
